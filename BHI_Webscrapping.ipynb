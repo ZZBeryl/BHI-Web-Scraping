{
 "cells": [
  {
   "cell_type": "code",
   "execution_count": 17,
   "metadata": {},
   "outputs": [],
   "source": [
    "from selenium import webdriver\n",
    "from selenium.webdriver.common.by import By\n",
    "from selenium.webdriver.support import expected_conditions as EC\n",
    "from selenium.webdriver.support.wait import WebDriverWait\n",
    "from bs4 import BeautifulSoup\n",
    "import requests\n",
    "import pandas as pd\n",
    "import numpy as np\n",
    "import time"
   ]
  },
  {
   "cell_type": "markdown",
   "metadata": {},
   "source": [
    "<h2>登录并打开查询页面"
   ]
  },
  {
   "cell_type": "code",
   "execution_count": 2,
   "metadata": {},
   "outputs": [],
   "source": [
    "browser = webdriver.Chrome()\n",
    "browser.maximize_window()  # 最大化窗口\n",
    "wait = WebDriverWait(browser, 10) # 等待加载10s\n",
    "url = 'http://www.bhi.com.cn/Login/login.aspx?prev=http://projectinfo.bhi.com.cn/Projects/ProjectNList.aspx'\n",
    "browser.get(url)\n",
    "browser.set_page_load_timeout(120)"
   ]
  },
  {
   "cell_type": "code",
   "execution_count": null,
   "metadata": {},
   "outputs": [],
   "source": [
    "# 输入用户名、密码和验证码"
   ]
  },
  {
   "cell_type": "code",
   "execution_count": 3,
   "metadata": {},
   "outputs": [],
   "source": [
    "submit = wait.until(EC.element_to_be_clickable((By.XPATH, '//*[@id=\"login\"]')))\n",
    "submit.click()"
   ]
  },
  {
   "cell_type": "code",
   "execution_count": 4,
   "metadata": {},
   "outputs": [],
   "source": [
    "input = wait.until(EC.presence_of_element_located((By.XPATH, '//*[@id=\"keyword\"]')))\n",
    "input.clear()\n",
    "input.send_keys(\"电梯\")\n",
    "check = wait.until(EC.element_to_be_clickable((By.XPATH, '//*[@id=\"industry\"]/li[1]/label[7]/input')))\n",
    "check.click()\n",
    "check = wait.until(EC.element_to_be_clickable((By.XPATH, '//*[@id=\"industry\"]/li[1]/label[8]/input')))\n",
    "check.click()\n",
    "check = wait.until(EC.element_to_be_clickable((By.XPATH, '//*[@id=\"industry\"]/li[1]/label[10]/input')))\n",
    "check.click()\n",
    "check = wait.until(EC.element_to_be_clickable((By.XPATH, '//*[@id=\"form1\"]/div[9]/div[1]/input[1]')))\n",
    "check.click()"
   ]
  },
  {
   "cell_type": "markdown",
   "metadata": {},
   "source": [
    "<h2>添加项目数据至database中"
   ]
  },
  {
   "cell_type": "code",
   "execution_count": 6,
   "metadata": {},
   "outputs": [],
   "source": [
    "def turn_page(browser):\n",
    "    curHandle = browser.current_window_handle #获取当前窗口聚丙\n",
    "    allHandle = browser.window_handles #获取所有聚丙　　　　\n",
    "    for h in allHandle:\n",
    "        if h != curHandle:\n",
    "            browser.switch_to.window(h) #切换聚丙，到新弹出的窗口\n",
    "            break"
   ]
  },
  {
   "cell_type": "code",
   "execution_count": 7,
   "metadata": {},
   "outputs": [],
   "source": [
    "def close_turn_page(browser):\n",
    "    curHandle = browser.current_window_handle #获取当前窗口聚丙\n",
    "    allHandle = browser.window_handles #获取所有聚丙　　　　\n",
    "    for h in allHandle:\n",
    "        if h != curHandle:\n",
    "            browser.close()\n",
    "            browser.switch_to.window(h) #切换聚丙，到新弹出的窗口\n",
    "            break"
   ]
  },
  {
   "cell_type": "code",
   "execution_count": 8,
   "metadata": {},
   "outputs": [],
   "source": [
    "def basic_info(project_page):\n",
    "    title = project_page.find('h1').get_text()\n",
    "    title = title.replace('\\n','').replace(' ','')\n",
    "\n",
    "    info = [x.get_text() for x in project_page.find_all('td')]\n",
    "    info = [text.replace('\\n','').replace(' ','') for text in info]\n",
    "    region = info[2]\n",
    "    post_date = info[4]\n",
    "    industry = info[6]\n",
    "    con_period = info[8] #construction_period\n",
    "    investment = info[10]\n",
    "    progress = info[12]\n",
    "    equipments = info[20]\n",
    "    description = info[24]\n",
    "    return info,title,region,post_date,industry,con_period,investment,progress,equipments,description"
   ]
  },
  {
   "cell_type": "code",
   "execution_count": 9,
   "metadata": {},
   "outputs": [],
   "source": [
    "def bodi_info(info):\n",
    "    is_bo = False\n",
    "    is_di = False\n",
    "    is_re = False\n",
    "    if '业主方及其联系方式' in info:\n",
    "        is_bo = True\n",
    "    if '设计单位及其联系方式' in info:\n",
    "        is_di = True\n",
    "    if '可研单位及其联系方式' in info:\n",
    "        is_re = True\n",
    "\n",
    "    if is_bo and is_di:\n",
    "        bo_ind = info.index('业主方及其联系方式')\n",
    "        di_ind = info.index('设计单位及其联系方式')\n",
    "        bo_name = info[bo_ind+2].replace('近期参与项目','')\n",
    "        bo_contact_list = info[bo_ind+7:di_ind]\n",
    "        bo_contact = \",\".join(bo_contact_list)\n",
    "        di_name = info[di_ind+2].replace('近期参与项目','')\n",
    "        if is_re:\n",
    "            re_ind = info.index('可研单位及其联系方式')\n",
    "            di_contact_list = info[di_ind+7:re_ind]\n",
    "        else:\n",
    "            di_contact_list = info[di_ind+7:]\n",
    "        di_contact = \",\".join(di_contact_list)\n",
    "    elif is_bo and not is_di:\n",
    "        bo_ind = info.index('业主方及其联系方式')\n",
    "        bo_name = info[bo_ind+2].replace('近期参与项目','')    \n",
    "        if is_re:\n",
    "            re_ind = info.index('可研单位及其联系方式')\n",
    "            bo_contact_list = info[bo_ind+7:re_ind]\n",
    "        else:\n",
    "            bo_contact_list = info[bo_ind+7:]\n",
    "        bo_contact = \",\".join(bo_contact_list)\n",
    "        di_name = ''\n",
    "        di_contact = ''\n",
    "    else:\n",
    "        pass\n",
    "    return bo_name,bo_contact,di_name,di_contact"
   ]
  },
  {
   "cell_type": "code",
   "execution_count": 26,
   "metadata": {},
   "outputs": [],
   "source": [
    "cols = [\"title\",\"region\",\"post_date\",\"industry\",\"con_period\",\"investment\",\"progress\",\"equipments\",\"description\"]\n",
    "cols += [\"bo_name\",\"bo_contact\",\"di_name\",\"di_contact\"]\n",
    "database = pd.DataFrame(columns = cols)"
   ]
  },
  {
   "cell_type": "code",
   "execution_count": 27,
   "metadata": {},
   "outputs": [
    {
     "ename": "AttributeError",
     "evalue": "'NoneType' object has no attribute 'get_text'",
     "output_type": "error",
     "traceback": [
      "\u001b[0;31m---------------------------------------------------------------------------\u001b[0m",
      "\u001b[0;31mAttributeError\u001b[0m                            Traceback (most recent call last)",
      "\u001b[0;32m<ipython-input-27-8d3433c39d74>\u001b[0m in \u001b[0;36m<module>\u001b[0;34m\u001b[0m\n\u001b[1;32m     10\u001b[0m         \u001b[0mproject_content\u001b[0m \u001b[0;34m=\u001b[0m \u001b[0mbrowser\u001b[0m\u001b[0;34m.\u001b[0m\u001b[0mpage_source\u001b[0m\u001b[0;34m.\u001b[0m\u001b[0mencode\u001b[0m\u001b[0;34m(\u001b[0m\u001b[0;34m'utf-8'\u001b[0m\u001b[0;34m)\u001b[0m\u001b[0;34m\u001b[0m\u001b[0;34m\u001b[0m\u001b[0m\n\u001b[1;32m     11\u001b[0m         \u001b[0mproject_page\u001b[0m \u001b[0;34m=\u001b[0m \u001b[0mBeautifulSoup\u001b[0m\u001b[0;34m(\u001b[0m\u001b[0mproject_content\u001b[0m\u001b[0;34m,\u001b[0m \u001b[0;34m'lxml'\u001b[0m\u001b[0;34m)\u001b[0m\u001b[0;34m\u001b[0m\u001b[0;34m\u001b[0m\u001b[0m\n\u001b[0;32m---> 12\u001b[0;31m         \u001b[0minfo\u001b[0m\u001b[0;34m,\u001b[0m\u001b[0mtitle\u001b[0m\u001b[0;34m,\u001b[0m\u001b[0mregion\u001b[0m\u001b[0;34m,\u001b[0m\u001b[0mpost_date\u001b[0m\u001b[0;34m,\u001b[0m\u001b[0mindustry\u001b[0m\u001b[0;34m,\u001b[0m\u001b[0mcon_period\u001b[0m\u001b[0;34m,\u001b[0m\u001b[0minvestment\u001b[0m\u001b[0;34m,\u001b[0m\u001b[0mprogress\u001b[0m\u001b[0;34m,\u001b[0m\u001b[0mequipments\u001b[0m\u001b[0;34m,\u001b[0m\u001b[0mdescription\u001b[0m \u001b[0;34m=\u001b[0m \u001b[0mbasic_info\u001b[0m\u001b[0;34m(\u001b[0m\u001b[0mproject_page\u001b[0m\u001b[0;34m)\u001b[0m\u001b[0;34m\u001b[0m\u001b[0;34m\u001b[0m\u001b[0m\n\u001b[0m\u001b[1;32m     13\u001b[0m         \u001b[0mbo_name\u001b[0m\u001b[0;34m,\u001b[0m\u001b[0mbo_contact\u001b[0m\u001b[0;34m,\u001b[0m\u001b[0mdi_name\u001b[0m\u001b[0;34m,\u001b[0m\u001b[0mdi_contact\u001b[0m \u001b[0;34m=\u001b[0m \u001b[0mbodi_info\u001b[0m\u001b[0;34m(\u001b[0m\u001b[0minfo\u001b[0m\u001b[0;34m)\u001b[0m\u001b[0;34m\u001b[0m\u001b[0;34m\u001b[0m\u001b[0m\n\u001b[1;32m     14\u001b[0m         \u001b[0mdatabase\u001b[0m\u001b[0;34m.\u001b[0m\u001b[0mloc\u001b[0m\u001b[0;34m[\u001b[0m\u001b[0mi\u001b[0m\u001b[0;34m+\u001b[0m\u001b[0;36m30\u001b[0m\u001b[0;34m*\u001b[0m\u001b[0mj\u001b[0m\u001b[0;34m,\u001b[0m\u001b[0;34m:\u001b[0m\u001b[0;34m]\u001b[0m \u001b[0;34m=\u001b[0m \u001b[0;34m[\u001b[0m\u001b[0mtitle\u001b[0m\u001b[0;34m,\u001b[0m\u001b[0mregion\u001b[0m\u001b[0;34m,\u001b[0m\u001b[0mpost_date\u001b[0m\u001b[0;34m,\u001b[0m\u001b[0mindustry\u001b[0m\u001b[0;34m,\u001b[0m\u001b[0mcon_period\u001b[0m\u001b[0;34m,\u001b[0m\u001b[0minvestment\u001b[0m\u001b[0;34m,\u001b[0m\u001b[0mprogress\u001b[0m\u001b[0;34m,\u001b[0m\u001b[0mequipments\u001b[0m\u001b[0;34m,\u001b[0m\u001b[0mdescription\u001b[0m\u001b[0;34m,\u001b[0m\u001b[0mbo_name\u001b[0m\u001b[0;34m,\u001b[0m\u001b[0mbo_contact\u001b[0m\u001b[0;34m,\u001b[0m\u001b[0mdi_name\u001b[0m\u001b[0;34m,\u001b[0m\u001b[0mdi_contact\u001b[0m\u001b[0;34m]\u001b[0m\u001b[0;34m\u001b[0m\u001b[0;34m\u001b[0m\u001b[0m\n",
      "\u001b[0;32m<ipython-input-8-e25df7caa99b>\u001b[0m in \u001b[0;36mbasic_info\u001b[0;34m(project_page)\u001b[0m\n\u001b[1;32m      1\u001b[0m \u001b[0;32mdef\u001b[0m \u001b[0mbasic_info\u001b[0m\u001b[0;34m(\u001b[0m\u001b[0mproject_page\u001b[0m\u001b[0;34m)\u001b[0m\u001b[0;34m:\u001b[0m\u001b[0;34m\u001b[0m\u001b[0;34m\u001b[0m\u001b[0m\n\u001b[0;32m----> 2\u001b[0;31m     \u001b[0mtitle\u001b[0m \u001b[0;34m=\u001b[0m \u001b[0mproject_page\u001b[0m\u001b[0;34m.\u001b[0m\u001b[0mfind\u001b[0m\u001b[0;34m(\u001b[0m\u001b[0;34m'h1'\u001b[0m\u001b[0;34m)\u001b[0m\u001b[0;34m.\u001b[0m\u001b[0mget_text\u001b[0m\u001b[0;34m(\u001b[0m\u001b[0;34m)\u001b[0m\u001b[0;34m\u001b[0m\u001b[0;34m\u001b[0m\u001b[0m\n\u001b[0m\u001b[1;32m      3\u001b[0m     \u001b[0mtitle\u001b[0m \u001b[0;34m=\u001b[0m \u001b[0mtitle\u001b[0m\u001b[0;34m.\u001b[0m\u001b[0mreplace\u001b[0m\u001b[0;34m(\u001b[0m\u001b[0;34m'\\n'\u001b[0m\u001b[0;34m,\u001b[0m\u001b[0;34m''\u001b[0m\u001b[0;34m)\u001b[0m\u001b[0;34m.\u001b[0m\u001b[0mreplace\u001b[0m\u001b[0;34m(\u001b[0m\u001b[0;34m' '\u001b[0m\u001b[0;34m,\u001b[0m\u001b[0;34m''\u001b[0m\u001b[0;34m)\u001b[0m\u001b[0;34m\u001b[0m\u001b[0;34m\u001b[0m\u001b[0m\n\u001b[1;32m      4\u001b[0m \u001b[0;34m\u001b[0m\u001b[0m\n\u001b[1;32m      5\u001b[0m     \u001b[0minfo\u001b[0m \u001b[0;34m=\u001b[0m \u001b[0;34m[\u001b[0m\u001b[0mx\u001b[0m\u001b[0;34m.\u001b[0m\u001b[0mget_text\u001b[0m\u001b[0;34m(\u001b[0m\u001b[0;34m)\u001b[0m \u001b[0;32mfor\u001b[0m \u001b[0mx\u001b[0m \u001b[0;32min\u001b[0m \u001b[0mproject_page\u001b[0m\u001b[0;34m.\u001b[0m\u001b[0mfind_all\u001b[0m\u001b[0;34m(\u001b[0m\u001b[0;34m'td'\u001b[0m\u001b[0;34m)\u001b[0m\u001b[0;34m]\u001b[0m\u001b[0;34m\u001b[0m\u001b[0;34m\u001b[0m\u001b[0m\n",
      "\u001b[0;31mAttributeError\u001b[0m: 'NoneType' object has no attribute 'get_text'"
     ]
    }
   ],
   "source": [
    "for j in range(0,78):\n",
    "    i = 0\n",
    "    while i < 30:\n",
    "        check = wait.until(EC.element_to_be_clickable((By.XPATH, '//*[@id=\"list\"]/tbody/tr[%d]/td[1]/input'%(i+2))))\n",
    "        check.click()\n",
    "        submit = wait.until(EC.element_to_be_clickable((By.XPATH, '//*[@id=\"form1\"]/div[11]/div[2]/div[1]/a[1]')))\n",
    "        submit.click()\n",
    "        time.sleep(np.random.rand()+2)\n",
    "        turn_page(browser)\n",
    "        project_content = browser.page_source.encode('utf-8')\n",
    "        project_page = BeautifulSoup(project_content, 'lxml')\n",
    "        info,title,region,post_date,industry,con_period,investment,progress,equipments,description = basic_info(project_page)\n",
    "        bo_name,bo_contact,di_name,di_contact = bodi_info(info)\n",
    "        database.loc[i+30*j,:] = [title,region,post_date,industry,con_period,investment,progress,equipments,description,bo_name,bo_contact,di_name,di_contact]\n",
    "        i = i + 1\n",
    "        close_turn_page(browser)\n",
    "        time.sleep(np.random.rand()+2)\n",
    "        check = wait.until(EC.element_to_be_clickable((By.XPATH, '//*[@id=\"list\"]/tbody/tr[%d]/td[1]/input'%(i+1))))\n",
    "        check.click()\n",
    "    nextpage = wait.until(EC.element_to_be_clickable((By.XPATH, '//*[@id=\"next\"]')))\n",
    "    nextpage.click()\n",
    "    time.sleep(np.random.rand()+10)"
   ]
  },
  {
   "cell_type": "code",
   "execution_count": 29,
   "metadata": {},
   "outputs": [
    {
     "data": {
      "text/plain": [
       "300"
      ]
     },
     "execution_count": 29,
     "metadata": {},
     "output_type": "execute_result"
    }
   ],
   "source": [
    "len(database)"
   ]
  },
  {
   "cell_type": "code",
   "execution_count": 30,
   "metadata": {},
   "outputs": [],
   "source": [
    "database.to_csv(\"database_0906.csv\")"
   ]
  },
  {
   "cell_type": "code",
   "execution_count": 32,
   "metadata": {},
   "outputs": [],
   "source": [
    "database.to_excel(\"database_0906.xlsx\")"
   ]
  },
  {
   "cell_type": "code",
   "execution_count": 33,
   "metadata": {},
   "outputs": [],
   "source": [
    "browser.quit()"
   ]
  }
 ],
 "metadata": {
  "kernelspec": {
   "display_name": "Python 3",
   "language": "python",
   "name": "python3"
  },
  "language_info": {
   "codemirror_mode": {
    "name": "ipython",
    "version": 3
   },
   "file_extension": ".py",
   "mimetype": "text/x-python",
   "name": "python",
   "nbconvert_exporter": "python",
   "pygments_lexer": "ipython3",
   "version": "3.7.6"
  }
 },
 "nbformat": 4,
 "nbformat_minor": 4
}
